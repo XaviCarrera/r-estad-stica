{
  "nbformat": 4,
  "nbformat_minor": 0,
  "metadata": {
    "colab": {
      "provenance": [],
      "authorship_tag": "ABX9TyPXAu0zg/W5OCYOMBkfBJdo",
      "include_colab_link": true
    },
    "kernelspec": {
      "name": "ir",
      "display_name": "R"
    },
    "language_info": {
      "name": "R"
    }
  },
  "cells": [
    {
      "cell_type": "markdown",
      "metadata": {
        "id": "view-in-github",
        "colab_type": "text"
      },
      "source": [
        "<a href=\"https://colab.research.google.com/github/XaviCarrera/r-estad-stica/blob/main/Regresi%C3%B3nLineal.ipynb\" target=\"_parent\"><img src=\"https://colab.research.google.com/assets/colab-badge.svg\" alt=\"Open In Colab\"/></a>"
      ]
    },
    {
      "cell_type": "markdown",
      "source": [
        "# Tutorial de Regresión Lineal en R\n",
        "En este tutorial aprenderemos los conceptos básicos de la regresión lineal en R.\n",
        "\n",
        "Usaremos el dataset `mtcars`, el cual contiene datos sobre el consumo de combustible y otras características de automóviles.\n",
        "Exploraremos los siguientes temas:\n",
        "- Covarianza\n",
        "- Correlación\n",
        "- Regresión Lineal Simple\n",
        "- Regresión Lineal Múltiple\n",
        "- Interpretación de resultados\n",
        "- Evaluación del desempeño del modelo\n"
      ],
      "metadata": {
        "id": "MWqOFMhKiUnF"
      }
    },
    {
      "cell_type": "code",
      "execution_count": 1,
      "metadata": {
        "colab": {
          "base_uri": "https://localhost:8080/"
        },
        "id": "MUjCV5BHiM8f",
        "outputId": "e01c81bd-3fa3-47c7-c798-cf62efe94374"
      },
      "outputs": [
        {
          "output_type": "stream",
          "name": "stderr",
          "text": [
            "── \u001b[1mAttaching core tidyverse packages\u001b[22m ──────────────────────── tidyverse 2.0.0 ──\n",
            "\u001b[32m✔\u001b[39m \u001b[34mdplyr    \u001b[39m 1.1.4     \u001b[32m✔\u001b[39m \u001b[34mreadr    \u001b[39m 2.1.5\n",
            "\u001b[32m✔\u001b[39m \u001b[34mforcats  \u001b[39m 1.0.0     \u001b[32m✔\u001b[39m \u001b[34mstringr  \u001b[39m 1.5.1\n",
            "\u001b[32m✔\u001b[39m \u001b[34mggplot2  \u001b[39m 3.5.1     \u001b[32m✔\u001b[39m \u001b[34mtibble   \u001b[39m 3.2.1\n",
            "\u001b[32m✔\u001b[39m \u001b[34mlubridate\u001b[39m 1.9.4     \u001b[32m✔\u001b[39m \u001b[34mtidyr    \u001b[39m 1.3.1\n",
            "\u001b[32m✔\u001b[39m \u001b[34mpurrr    \u001b[39m 1.0.4     \n",
            "── \u001b[1mConflicts\u001b[22m ────────────────────────────────────────── tidyverse_conflicts() ──\n",
            "\u001b[31m✖\u001b[39m \u001b[34mdplyr\u001b[39m::\u001b[32mfilter()\u001b[39m masks \u001b[34mstats\u001b[39m::filter()\n",
            "\u001b[31m✖\u001b[39m \u001b[34mdplyr\u001b[39m::\u001b[32mlag()\u001b[39m    masks \u001b[34mstats\u001b[39m::lag()\n",
            "\u001b[36mℹ\u001b[39m Use the conflicted package (\u001b[3m\u001b[34m<http://conflicted.r-lib.org/>\u001b[39m\u001b[23m) to force all conflicts to become errors\n"
          ]
        }
      ],
      "source": [
        "library(tidyverse)\n",
        "library(ggplot2)\n",
        "library(dplyr)"
      ]
    },
    {
      "cell_type": "markdown",
      "source": [
        "# Carga del dataset `mtcars`\n",
        "\n",
        "Este dataset contiene información sobre automóviles, como el consumo de combustible, peso y potencia."
      ],
      "metadata": {
        "id": "7XyrOVKSilw4"
      }
    },
    {
      "cell_type": "code",
      "source": [
        "data(mtcars)\n",
        "\n",
        "head(mtcars)\n",
        "dim(mtcars)\n",
        "summary(mtcars)\n",
        "str(mtcars)"
      ],
      "metadata": {
        "colab": {
          "base_uri": "https://localhost:8080/",
          "height": 893
        },
        "id": "TFnIgB9fii0P",
        "outputId": "f8cb8040-9f8c-4ca1-9aac-ffdfac324d67"
      },
      "execution_count": 3,
      "outputs": [
        {
          "output_type": "display_data",
          "data": {
            "text/html": [
              "<table class=\"dataframe\">\n",
              "<caption>A data.frame: 6 × 11</caption>\n",
              "<thead>\n",
              "\t<tr><th></th><th scope=col>mpg</th><th scope=col>cyl</th><th scope=col>disp</th><th scope=col>hp</th><th scope=col>drat</th><th scope=col>wt</th><th scope=col>qsec</th><th scope=col>vs</th><th scope=col>am</th><th scope=col>gear</th><th scope=col>carb</th></tr>\n",
              "\t<tr><th></th><th scope=col>&lt;dbl&gt;</th><th scope=col>&lt;dbl&gt;</th><th scope=col>&lt;dbl&gt;</th><th scope=col>&lt;dbl&gt;</th><th scope=col>&lt;dbl&gt;</th><th scope=col>&lt;dbl&gt;</th><th scope=col>&lt;dbl&gt;</th><th scope=col>&lt;dbl&gt;</th><th scope=col>&lt;dbl&gt;</th><th scope=col>&lt;dbl&gt;</th><th scope=col>&lt;dbl&gt;</th></tr>\n",
              "</thead>\n",
              "<tbody>\n",
              "\t<tr><th scope=row>Mazda RX4</th><td>21.0</td><td>6</td><td>160</td><td>110</td><td>3.90</td><td>2.620</td><td>16.46</td><td>0</td><td>1</td><td>4</td><td>4</td></tr>\n",
              "\t<tr><th scope=row>Mazda RX4 Wag</th><td>21.0</td><td>6</td><td>160</td><td>110</td><td>3.90</td><td>2.875</td><td>17.02</td><td>0</td><td>1</td><td>4</td><td>4</td></tr>\n",
              "\t<tr><th scope=row>Datsun 710</th><td>22.8</td><td>4</td><td>108</td><td> 93</td><td>3.85</td><td>2.320</td><td>18.61</td><td>1</td><td>1</td><td>4</td><td>1</td></tr>\n",
              "\t<tr><th scope=row>Hornet 4 Drive</th><td>21.4</td><td>6</td><td>258</td><td>110</td><td>3.08</td><td>3.215</td><td>19.44</td><td>1</td><td>0</td><td>3</td><td>1</td></tr>\n",
              "\t<tr><th scope=row>Hornet Sportabout</th><td>18.7</td><td>8</td><td>360</td><td>175</td><td>3.15</td><td>3.440</td><td>17.02</td><td>0</td><td>0</td><td>3</td><td>2</td></tr>\n",
              "\t<tr><th scope=row>Valiant</th><td>18.1</td><td>6</td><td>225</td><td>105</td><td>2.76</td><td>3.460</td><td>20.22</td><td>1</td><td>0</td><td>3</td><td>1</td></tr>\n",
              "</tbody>\n",
              "</table>\n"
            ],
            "text/markdown": "\nA data.frame: 6 × 11\n\n| <!--/--> | mpg &lt;dbl&gt; | cyl &lt;dbl&gt; | disp &lt;dbl&gt; | hp &lt;dbl&gt; | drat &lt;dbl&gt; | wt &lt;dbl&gt; | qsec &lt;dbl&gt; | vs &lt;dbl&gt; | am &lt;dbl&gt; | gear &lt;dbl&gt; | carb &lt;dbl&gt; |\n|---|---|---|---|---|---|---|---|---|---|---|---|\n| Mazda RX4 | 21.0 | 6 | 160 | 110 | 3.90 | 2.620 | 16.46 | 0 | 1 | 4 | 4 |\n| Mazda RX4 Wag | 21.0 | 6 | 160 | 110 | 3.90 | 2.875 | 17.02 | 0 | 1 | 4 | 4 |\n| Datsun 710 | 22.8 | 4 | 108 |  93 | 3.85 | 2.320 | 18.61 | 1 | 1 | 4 | 1 |\n| Hornet 4 Drive | 21.4 | 6 | 258 | 110 | 3.08 | 3.215 | 19.44 | 1 | 0 | 3 | 1 |\n| Hornet Sportabout | 18.7 | 8 | 360 | 175 | 3.15 | 3.440 | 17.02 | 0 | 0 | 3 | 2 |\n| Valiant | 18.1 | 6 | 225 | 105 | 2.76 | 3.460 | 20.22 | 1 | 0 | 3 | 1 |\n\n",
            "text/latex": "A data.frame: 6 × 11\n\\begin{tabular}{r|lllllllllll}\n  & mpg & cyl & disp & hp & drat & wt & qsec & vs & am & gear & carb\\\\\n  & <dbl> & <dbl> & <dbl> & <dbl> & <dbl> & <dbl> & <dbl> & <dbl> & <dbl> & <dbl> & <dbl>\\\\\n\\hline\n\tMazda RX4 & 21.0 & 6 & 160 & 110 & 3.90 & 2.620 & 16.46 & 0 & 1 & 4 & 4\\\\\n\tMazda RX4 Wag & 21.0 & 6 & 160 & 110 & 3.90 & 2.875 & 17.02 & 0 & 1 & 4 & 4\\\\\n\tDatsun 710 & 22.8 & 4 & 108 &  93 & 3.85 & 2.320 & 18.61 & 1 & 1 & 4 & 1\\\\\n\tHornet 4 Drive & 21.4 & 6 & 258 & 110 & 3.08 & 3.215 & 19.44 & 1 & 0 & 3 & 1\\\\\n\tHornet Sportabout & 18.7 & 8 & 360 & 175 & 3.15 & 3.440 & 17.02 & 0 & 0 & 3 & 2\\\\\n\tValiant & 18.1 & 6 & 225 & 105 & 2.76 & 3.460 & 20.22 & 1 & 0 & 3 & 1\\\\\n\\end{tabular}\n",
            "text/plain": [
              "                  mpg  cyl disp hp  drat wt    qsec  vs am gear carb\n",
              "Mazda RX4         21.0 6   160  110 3.90 2.620 16.46 0  1  4    4   \n",
              "Mazda RX4 Wag     21.0 6   160  110 3.90 2.875 17.02 0  1  4    4   \n",
              "Datsun 710        22.8 4   108   93 3.85 2.320 18.61 1  1  4    1   \n",
              "Hornet 4 Drive    21.4 6   258  110 3.08 3.215 19.44 1  0  3    1   \n",
              "Hornet Sportabout 18.7 8   360  175 3.15 3.440 17.02 0  0  3    2   \n",
              "Valiant           18.1 6   225  105 2.76 3.460 20.22 1  0  3    1   "
            ]
          },
          "metadata": {}
        },
        {
          "output_type": "display_data",
          "data": {
            "text/html": [
              "<style>\n",
              ".list-inline {list-style: none; margin:0; padding: 0}\n",
              ".list-inline>li {display: inline-block}\n",
              ".list-inline>li:not(:last-child)::after {content: \"\\00b7\"; padding: 0 .5ex}\n",
              "</style>\n",
              "<ol class=list-inline><li>32</li><li>11</li></ol>\n"
            ],
            "text/markdown": "1. 32\n2. 11\n\n\n",
            "text/latex": "\\begin{enumerate*}\n\\item 32\n\\item 11\n\\end{enumerate*}\n",
            "text/plain": [
              "[1] 32 11"
            ]
          },
          "metadata": {}
        },
        {
          "output_type": "display_data",
          "data": {
            "text/plain": [
              "      mpg             cyl             disp             hp       \n",
              " Min.   :10.40   Min.   :4.000   Min.   : 71.1   Min.   : 52.0  \n",
              " 1st Qu.:15.43   1st Qu.:4.000   1st Qu.:120.8   1st Qu.: 96.5  \n",
              " Median :19.20   Median :6.000   Median :196.3   Median :123.0  \n",
              " Mean   :20.09   Mean   :6.188   Mean   :230.7   Mean   :146.7  \n",
              " 3rd Qu.:22.80   3rd Qu.:8.000   3rd Qu.:326.0   3rd Qu.:180.0  \n",
              " Max.   :33.90   Max.   :8.000   Max.   :472.0   Max.   :335.0  \n",
              "      drat             wt             qsec             vs        \n",
              " Min.   :2.760   Min.   :1.513   Min.   :14.50   Min.   :0.0000  \n",
              " 1st Qu.:3.080   1st Qu.:2.581   1st Qu.:16.89   1st Qu.:0.0000  \n",
              " Median :3.695   Median :3.325   Median :17.71   Median :0.0000  \n",
              " Mean   :3.597   Mean   :3.217   Mean   :17.85   Mean   :0.4375  \n",
              " 3rd Qu.:3.920   3rd Qu.:3.610   3rd Qu.:18.90   3rd Qu.:1.0000  \n",
              " Max.   :4.930   Max.   :5.424   Max.   :22.90   Max.   :1.0000  \n",
              "       am              gear            carb      \n",
              " Min.   :0.0000   Min.   :3.000   Min.   :1.000  \n",
              " 1st Qu.:0.0000   1st Qu.:3.000   1st Qu.:2.000  \n",
              " Median :0.0000   Median :4.000   Median :2.000  \n",
              " Mean   :0.4062   Mean   :3.688   Mean   :2.812  \n",
              " 3rd Qu.:1.0000   3rd Qu.:4.000   3rd Qu.:4.000  \n",
              " Max.   :1.0000   Max.   :5.000   Max.   :8.000  "
            ]
          },
          "metadata": {}
        },
        {
          "output_type": "stream",
          "name": "stdout",
          "text": [
            "'data.frame':\t32 obs. of  11 variables:\n",
            " $ mpg : num  21 21 22.8 21.4 18.7 18.1 14.3 24.4 22.8 19.2 ...\n",
            " $ cyl : num  6 6 4 6 8 6 8 4 4 6 ...\n",
            " $ disp: num  160 160 108 258 360 ...\n",
            " $ hp  : num  110 110 93 110 175 105 245 62 95 123 ...\n",
            " $ drat: num  3.9 3.9 3.85 3.08 3.15 2.76 3.21 3.69 3.92 3.92 ...\n",
            " $ wt  : num  2.62 2.88 2.32 3.21 3.44 ...\n",
            " $ qsec: num  16.5 17 18.6 19.4 17 ...\n",
            " $ vs  : num  0 0 1 1 0 1 0 1 1 1 ...\n",
            " $ am  : num  1 1 1 0 0 0 0 0 0 0 ...\n",
            " $ gear: num  4 4 4 3 3 3 3 4 4 4 ...\n",
            " $ carb: num  4 4 1 1 2 1 4 2 2 4 ...\n"
          ]
        }
      ]
    },
    {
      "cell_type": "markdown",
      "source": [
        "# Covarianza\n",
        "\n",
        "La covarianza mide cómo dos variables cambian juntas. Si la covarianza es positiva, las variables tienden a aumentar juntas. Si es negativa, una aumenta mientras la otra disminuye."
      ],
      "metadata": {
        "id": "V2IP3JOTiw_H"
      }
    },
    {
      "cell_type": "code",
      "source": [
        "cov(mtcars$mpg, mtcars$hp)"
      ],
      "metadata": {
        "colab": {
          "base_uri": "https://localhost:8080/",
          "height": 34
        },
        "id": "VjgdkKy2iorw",
        "outputId": "e655ed0d-98ab-463e-f2a9-cd3f0a78fe0e"
      },
      "execution_count": 4,
      "outputs": [
        {
          "output_type": "display_data",
          "data": {
            "text/html": [
              "-320.732056451613"
            ],
            "text/markdown": "-320.732056451613",
            "text/latex": "-320.732056451613",
            "text/plain": [
              "[1] -320.7321"
            ]
          },
          "metadata": {}
        }
      ]
    },
    {
      "cell_type": "markdown",
      "source": [
        "# Correlación\n",
        "La correlación mide la relación entre dos variables en una escala normalizada (-1 a 1).\n",
        "Una correlación cercana a 1 indica una relación positiva fuerte, -1 una relación negativa fuerte, y 0 indica que no hay relación."
      ],
      "metadata": {
        "id": "uV2cpKYgi8Pd"
      }
    },
    {
      "cell_type": "code",
      "source": [
        "cor(mtcars$mpg, mtcars$hp)"
      ],
      "metadata": {
        "colab": {
          "base_uri": "https://localhost:8080/",
          "height": 34
        },
        "id": "Zvwf37zji5dB",
        "outputId": "e2e871cc-9ab1-4e31-add4-dfe7030112fd"
      },
      "execution_count": 5,
      "outputs": [
        {
          "output_type": "display_data",
          "data": {
            "text/html": [
              "-0.776168371826586"
            ],
            "text/markdown": "-0.776168371826586",
            "text/latex": "-0.776168371826586",
            "text/plain": [
              "[1] -0.7761684"
            ]
          },
          "metadata": {}
        }
      ]
    },
    {
      "cell_type": "markdown",
      "source": [
        "# Regresión Lineal Simple\n",
        "En una regresión lineal simple, modelamos la relación entre una variable dependiente y una variable independiente.\n",
        "\n",
        "Ejemplo: predecir `mpg` en función de `hp`."
      ],
      "metadata": {
        "id": "G9StZeDmjF0O"
      }
    },
    {
      "cell_type": "code",
      "source": [
        "modelo_simple <- lm(mpg ~ hp, data=mtcars)\n",
        "summary(modelo_simple)"
      ],
      "metadata": {
        "colab": {
          "base_uri": "https://localhost:8080/",
          "height": 338
        },
        "id": "GkezYE-ii_2j",
        "outputId": "b31b31f2-a429-4491-fc0c-3c6a2e3a5679"
      },
      "execution_count": 6,
      "outputs": [
        {
          "output_type": "display_data",
          "data": {
            "text/plain": [
              "\n",
              "Call:\n",
              "lm(formula = mpg ~ hp, data = mtcars)\n",
              "\n",
              "Residuals:\n",
              "    Min      1Q  Median      3Q     Max \n",
              "-5.7121 -2.1122 -0.8854  1.5819  8.2360 \n",
              "\n",
              "Coefficients:\n",
              "            Estimate Std. Error t value Pr(>|t|)    \n",
              "(Intercept) 30.09886    1.63392  18.421  < 2e-16 ***\n",
              "hp          -0.06823    0.01012  -6.742 1.79e-07 ***\n",
              "---\n",
              "Signif. codes:  0 ‘***’ 0.001 ‘**’ 0.01 ‘*’ 0.05 ‘.’ 0.1 ‘ ’ 1\n",
              "\n",
              "Residual standard error: 3.863 on 30 degrees of freedom\n",
              "Multiple R-squared:  0.6024,\tAdjusted R-squared:  0.5892 \n",
              "F-statistic: 45.46 on 1 and 30 DF,  p-value: 1.788e-07\n"
            ]
          },
          "metadata": {}
        }
      ]
    },
    {
      "cell_type": "markdown",
      "source": [
        "## Modelo\n",
        "\n",
        "**Intersección (Intercept)**:\n",
        "30.10 es el valor estimado del consumo de combustible (\n",
        "𝑚\n",
        "𝑝\n",
        "𝑔\n",
        "mpg) cuando la variable independiente\n",
        "ℎ𝑝\n",
        "(caballos de fuerza) es 0.\n",
        "\n",
        "**Coeficiente de hp**:\n",
        "−0.0682 indica que, en promedio, por cada unidad adicional de\n",
        "ℎ\n",
        "𝑝\n",
        "hp, el\n",
        "𝑚\n",
        "𝑝\n",
        "𝑔\n",
        "mpg disminuye en\n",
        "0.0682.\n",
        "\n",
        "## Coeficientes\n",
        "\n",
        "**Intercept (30.10, p < 2e-16)**: Esto indica que cuando\n",
        "ℎ\n",
        "𝑝\n",
        "=\n",
        "0\n",
        ", el consumo de combustible estimado es de aproximadamente 30.10 mpg. Aunque en la realidad un auto con\n",
        "ℎ\n",
        "𝑝\n",
        "=\n",
        "0\n",
        "hp=0 no tiene sentido, esto representa la extrapolación del modelo.\n",
        "\n",
        "**Pendiente de hp (-0.0682, p = 1.79e-07)**: El coeficiente negativo sugiere que existe una relación inversa entre los caballos de fuerza y el consumo de combustible. Es decir, a mayor potencia del motor, menor es el rendimiento de millas por galón.\n",
        "\n",
        "## Residuos\n",
        "\n",
        "**Min**: -5.71, Max: 8.23: Indican que el modelo tiene errores de predicción en un rango de aproximadamente -5.71 a +8.23 millas por galón.\n",
        "\n",
        "**Mediana** cercana a 0 sugiere que los errores están distribuidos alrededor de 0.\n",
        "\n",
        "**Residual Standard Error (3.863)**: Indica la desviación estándar de los errores residuales, es decir, cuánto se desvían en promedio los valores reales de los valores predichos.\n"
      ],
      "metadata": {
        "id": "HSOpgbAGj2h6"
      }
    },
    {
      "cell_type": "markdown",
      "source": [
        "# Visualización del modelo de regresión lineal simple"
      ],
      "metadata": {
        "id": "Taj2-j3ajRpJ"
      }
    },
    {
      "cell_type": "code",
      "source": [
        "ggplot(mtcars, aes(x = hp, y = mpg)) +\n",
        "  geom_point() +\n",
        "  geom_smooth(method = \"lm\", col = \"red\") +\n",
        "  labs(title = \"Regresión Lineal Simple: HP vs MPG\", x = \"Caballos de fuerza (HP)\", y = \"Millas por galón (MPG)\")"
      ],
      "metadata": {
        "colab": {
          "base_uri": "https://localhost:8080/",
          "height": 455
        },
        "id": "RtRg7QUdjKc9",
        "outputId": "e8513725-b76e-4340-cbe8-59a4c9359c6c"
      },
      "execution_count": 7,
      "outputs": [
        {
          "output_type": "stream",
          "name": "stderr",
          "text": [
            "\u001b[1m\u001b[22m`geom_smooth()` using formula = 'y ~ x'\n"
          ]
        },
        {
          "output_type": "display_data",
          "data": {
            "text/plain": [
              "plot without title"
            ],
            "image/png": "[encoded data removed]"
          },
          "metadata": {
            "image/png": {
              "width": 420,
              "height": 420
            }
          }
        }
      ]
    },
    {
      "cell_type": "markdown",
      "source": [
        "# Regresión Lineal Múltiple\n",
        "\n",
        "En una regresión lineal múltiple, usamos múltiples variables independientes para predecir la variable dependiente.\n",
        "\n",
        "Ejemplo: predecir `mpg` en función de `hp`, `wt` y `cyl`."
      ],
      "metadata": {
        "id": "eqKgUfWgjahn"
      }
    },
    {
      "cell_type": "code",
      "source": [
        "modelo_multiple <- lm(mpg ~ hp + wt + cyl, data=mtcars)\n",
        "summary(modelo_multiple)"
      ],
      "metadata": {
        "colab": {
          "base_uri": "https://localhost:8080/",
          "height": 374
        },
        "id": "UE6JngkxjVCq",
        "outputId": "c3bd75d0-645c-448c-be0a-2409d39b8b19"
      },
      "execution_count": 8,
      "outputs": [
        {
          "output_type": "display_data",
          "data": {
            "text/plain": [
              "\n",
              "Call:\n",
              "lm(formula = mpg ~ hp + wt + cyl, data = mtcars)\n",
              "\n",
              "Residuals:\n",
              "    Min      1Q  Median      3Q     Max \n",
              "-3.9290 -1.5598 -0.5311  1.1850  5.8986 \n",
              "\n",
              "Coefficients:\n",
              "            Estimate Std. Error t value Pr(>|t|)    \n",
              "(Intercept) 38.75179    1.78686  21.687  < 2e-16 ***\n",
              "hp          -0.01804    0.01188  -1.519 0.140015    \n",
              "wt          -3.16697    0.74058  -4.276 0.000199 ***\n",
              "cyl         -0.94162    0.55092  -1.709 0.098480 .  \n",
              "---\n",
              "Signif. codes:  0 ‘***’ 0.001 ‘**’ 0.01 ‘*’ 0.05 ‘.’ 0.1 ‘ ’ 1\n",
              "\n",
              "Residual standard error: 2.512 on 28 degrees of freedom\n",
              "Multiple R-squared:  0.8431,\tAdjusted R-squared:  0.8263 \n",
              "F-statistic: 50.17 on 3 and 28 DF,  p-value: 2.184e-11\n"
            ]
          },
          "metadata": {}
        }
      ]
    },
    {
      "cell_type": "markdown",
      "source": [
        "# Evaluación del Modelo\n",
        "Para medir el desempeño de un modelo, utilizamos métricas como R² y el error cuadrático medio."
      ],
      "metadata": {
        "id": "amnlNe_Rjjck"
      }
    },
    {
      "cell_type": "code",
      "source": [
        "deparse(substitute(modelo_simple))\n",
        "summary(modelo_simple)$r.squared\n",
        "summary(modelo_multiple)$r.squared"
      ],
      "metadata": {
        "colab": {
          "base_uri": "https://localhost:8080/",
          "height": 69
        },
        "id": "gmSU6S96jeLP",
        "outputId": "212362d9-fab5-466a-a1f3-58c2553a88b6"
      },
      "execution_count": 9,
      "outputs": [
        {
          "output_type": "display_data",
          "data": {
            "text/html": [
              "'modelo_simple'"
            ],
            "text/markdown": "'modelo_simple'",
            "text/latex": "'modelo\\_simple'",
            "text/plain": [
              "[1] \"modelo_simple\""
            ]
          },
          "metadata": {}
        },
        {
          "output_type": "display_data",
          "data": {
            "text/html": [
              "0.602437341423934"
            ],
            "text/markdown": "0.602437341423934",
            "text/latex": "0.602437341423934",
            "text/plain": [
              "[1] 0.6024373"
            ]
          },
          "metadata": {}
        },
        {
          "output_type": "display_data",
          "data": {
            "text/html": [
              "0.843149983269399"
            ],
            "text/markdown": "0.843149983269399",
            "text/latex": "0.843149983269399",
            "text/plain": [
              "[1] 0.84315"
            ]
          },
          "metadata": {}
        }
      ]
    },
    {
      "cell_type": "markdown",
      "source": [
        "R2(0.6024): Explica qué porcentaje de la variabilidad de\n",
        "𝑚\n",
        "𝑝\n",
        "𝑔\n",
        "mpg es explicada por\n",
        "ℎ\n",
        "𝑝. En este caso, el 60.24% de la variabilidad en\n",
        "𝑚𝑝𝑔\n",
        " puede ser explicada por la variable\n",
        "ℎ𝑝, lo que indica una relación moderada."
      ],
      "metadata": {
        "id": "4moSVVQ3k9c6"
      }
    },
    {
      "cell_type": "code",
      "source": [
        "predicciones <- predict(modelo_multiple, mtcars)\n",
        "rmse <- sqrt(mean((mtcars$mpg - predicciones)^2))\n",
        "rmse"
      ],
      "metadata": {
        "colab": {
          "base_uri": "https://localhost:8080/",
          "height": 34
        },
        "id": "fOc_KDLfjmhx",
        "outputId": "15825ecc-7cf2-4171-d173-fb85420fa51b"
      },
      "execution_count": 10,
      "outputs": [
        {
          "output_type": "display_data",
          "data": {
            "text/html": [
              "2.34933847204126"
            ],
            "text/markdown": "2.34933847204126",
            "text/latex": "2.34933847204126",
            "text/plain": [
              "[1] 2.349338"
            ]
          },
          "metadata": {}
        }
      ]
    }
  ]
}