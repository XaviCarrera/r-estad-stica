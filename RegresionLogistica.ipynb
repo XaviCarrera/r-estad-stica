{
  "nbformat": 4,
  "nbformat_minor": 0,
  "metadata": {
    "colab": {
      "provenance": [],
      "authorship_tag": "ABX9TyNUZeYyWxo9hg54Q779rWTi",
      "include_colab_link": true
    },
    "kernelspec": {
      "name": "ir",
      "display_name": "R"
    },
    "language_info": {
      "name": "R"
    }
  },
  "cells": [
    {
      "cell_type": "markdown",
      "metadata": {
        "id": "view-in-github",
        "colab_type": "text"
      },
      "source": [
        "<a href=\"https://colab.research.google.com/github/XaviCarrera/r-estad-stica/blob/main/RegresionLogistica.ipynb\" target=\"_parent\"><img src=\"https://colab.research.google.com/assets/colab-badge.svg\" alt=\"Open In Colab\"/></a>"
      ]
    },
    {
      "cell_type": "markdown",
      "source": [
        "# Tutorial de Regresión Logística en R\n",
        "\n",
        "En este tutorial aprenderemos los conceptos básicos de la regresión logística en R.\n",
        "Usaremos el dataset `mtcars`, transformando la variable de respuesta en binaria.\n",
        "Exploraremos los siguientes temas:\n",
        "- Covarianza\n",
        "- Correlación\n",
        "- Regresión Logística\n",
        "- Interpretación de los coeficientes\n",
        "- Evaluación del modelo"
      ],
      "metadata": {
        "id": "gjK8oh2DnTwK"
      }
    },
    {
      "cell_type": "code",
      "execution_count": 1,
      "metadata": {
        "colab": {
          "base_uri": "https://localhost:8080/"
        },
        "id": "LmfDZzefnMTp",
        "outputId": "0cf47764-c01c-42f6-9d26-5eb952bbc858"
      },
      "outputs": [
        {
          "output_type": "stream",
          "name": "stderr",
          "text": [
            "── \u001b[1mAttaching core tidyverse packages\u001b[22m ──────────────────────── tidyverse 2.0.0 ──\n",
            "\u001b[32m✔\u001b[39m \u001b[34mdplyr    \u001b[39m 1.1.4     \u001b[32m✔\u001b[39m \u001b[34mreadr    \u001b[39m 2.1.5\n",
            "\u001b[32m✔\u001b[39m \u001b[34mforcats  \u001b[39m 1.0.0     \u001b[32m✔\u001b[39m \u001b[34mstringr  \u001b[39m 1.5.1\n",
            "\u001b[32m✔\u001b[39m \u001b[34mggplot2  \u001b[39m 3.5.1     \u001b[32m✔\u001b[39m \u001b[34mtibble   \u001b[39m 3.2.1\n",
            "\u001b[32m✔\u001b[39m \u001b[34mlubridate\u001b[39m 1.9.4     \u001b[32m✔\u001b[39m \u001b[34mtidyr    \u001b[39m 1.3.1\n",
            "\u001b[32m✔\u001b[39m \u001b[34mpurrr    \u001b[39m 1.0.4     \n",
            "── \u001b[1mConflicts\u001b[22m ────────────────────────────────────────── tidyverse_conflicts() ──\n",
            "\u001b[31m✖\u001b[39m \u001b[34mdplyr\u001b[39m::\u001b[32mfilter()\u001b[39m masks \u001b[34mstats\u001b[39m::filter()\n",
            "\u001b[31m✖\u001b[39m \u001b[34mdplyr\u001b[39m::\u001b[32mlag()\u001b[39m    masks \u001b[34mstats\u001b[39m::lag()\n",
            "\u001b[36mℹ\u001b[39m Use the conflicted package (\u001b[3m\u001b[34m<http://conflicted.r-lib.org/>\u001b[39m\u001b[23m) to force all conflicts to become errors\n"
          ]
        }
      ],
      "source": [
        "library(tidyverse)\n",
        "library(ggplot2)\n",
        "library(dplyr)"
      ]
    },
    {
      "cell_type": "markdown",
      "source": [
        "# Carga del dataset `mtcars`\n",
        "\n",
        "Este dataset contiene información sobre automóviles, como el consumo de combustible, peso y potencia.\n",
        "\n",
        "Para aplicar regresión logística, necesitamos una variable de respuesta binaria.\n",
        "Convertiremos `am` (tipo de transmisión: 0 = automático, 1 = manual) en un factor."
      ],
      "metadata": {
        "id": "YskLcs8enhu1"
      }
    },
    {
      "cell_type": "code",
      "source": [
        "data(mtcars)\n",
        "\n",
        "mtcars$am <- as.factor(mtcars$am)"
      ],
      "metadata": {
        "id": "xnCcH9vvnWM7"
      },
      "execution_count": 3,
      "outputs": []
    },
    {
      "cell_type": "markdown",
      "source": [
        "# Covarianza y Correlación\n",
        "Analizamos la relación entre las variables predictoras y la variable de respuesta `am`."
      ],
      "metadata": {
        "id": "xz75FdWTnpmq"
      }
    },
    {
      "cell_type": "code",
      "source": [
        "cov(mtcars$mpg, mtcars$hp)"
      ],
      "metadata": {
        "colab": {
          "base_uri": "https://localhost:8080/",
          "height": 34
        },
        "id": "87uNgpWgnRwY",
        "outputId": "4fadb4b7-2eeb-4006-804a-a3db8dffa20a"
      },
      "execution_count": 4,
      "outputs": [
        {
          "output_type": "display_data",
          "data": {
            "text/html": [
              "-320.732056451613"
            ],
            "text/markdown": "-320.732056451613",
            "text/latex": "-320.732056451613",
            "text/plain": [
              "[1] -320.7321"
            ]
          },
          "metadata": {}
        }
      ]
    },
    {
      "cell_type": "code",
      "source": [
        "cor(mtcars$mpg, mtcars$hp)"
      ],
      "metadata": {
        "colab": {
          "base_uri": "https://localhost:8080/",
          "height": 34
        },
        "id": "ONB0H2linsqz",
        "outputId": "a45888e5-e424-4b52-82ab-f64aed323ce8"
      },
      "execution_count": 5,
      "outputs": [
        {
          "output_type": "display_data",
          "data": {
            "text/html": [
              "-0.776168371826586"
            ],
            "text/markdown": "-0.776168371826586",
            "text/latex": "-0.776168371826586",
            "text/plain": [
              "[1] -0.7761684"
            ]
          },
          "metadata": {}
        }
      ]
    },
    {
      "cell_type": "markdown",
      "source": [
        "# Regresión Logística\n",
        "Modelamos la variable `am` en función de `mpg` y `hp`."
      ],
      "metadata": {
        "id": "IDdyr8T4nxId"
      }
    },
    {
      "cell_type": "code",
      "source": [
        "modelo_logistico <- glm(am ~ mpg + hp, data=mtcars, family=binomial)\n",
        "summary(modelo_logistico)"
      ],
      "metadata": {
        "colab": {
          "base_uri": "https://localhost:8080/",
          "height": 356
        },
        "id": "3Q4zXO0CnvHb",
        "outputId": "89e904e2-cee2-4faa-dd0c-1be06aa3e281"
      },
      "execution_count": 6,
      "outputs": [
        {
          "output_type": "display_data",
          "data": {
            "text/plain": [
              "\n",
              "Call:\n",
              "glm(formula = am ~ mpg + hp, family = binomial, data = mtcars)\n",
              "\n",
              "Coefficients:\n",
              "             Estimate Std. Error z value Pr(>|z|)  \n",
              "(Intercept) -33.60517   15.07672  -2.229   0.0258 *\n",
              "mpg           1.25961    0.56747   2.220   0.0264 *\n",
              "hp            0.05504    0.02692   2.045   0.0409 *\n",
              "---\n",
              "Signif. codes:  0 ‘***’ 0.001 ‘**’ 0.01 ‘*’ 0.05 ‘.’ 0.1 ‘ ’ 1\n",
              "\n",
              "(Dispersion parameter for binomial family taken to be 1)\n",
              "\n",
              "    Null deviance: 43.230  on 31  degrees of freedom\n",
              "Residual deviance: 19.233  on 29  degrees of freedom\n",
              "AIC: 25.233\n",
              "\n",
              "Number of Fisher Scoring iterations: 7\n"
            ]
          },
          "metadata": {}
        }
      ]
    },
    {
      "cell_type": "markdown",
      "source": [
        "# Interpretación de los coeficientes\n",
        "\n",
        "Los coeficientes representan el logit (log-odds) de la probabilidad de `am = 1`.\n",
        "Para interpretarlos en términos de probabilidades, calculamos los odds ratios."
      ],
      "metadata": {
        "id": "7v-GOu41n7jV"
      }
    },
    {
      "cell_type": "code",
      "source": [
        "exp(coef(modelo_logistico))"
      ],
      "metadata": {
        "colab": {
          "base_uri": "https://localhost:8080/",
          "height": 34
        },
        "id": "GiFK-wBhnzbP",
        "outputId": "2b744d3a-722e-4ff2-9119-2897f8d6af04"
      },
      "execution_count": 7,
      "outputs": [
        {
          "output_type": "display_data",
          "data": {
            "text/html": [
              "<style>\n",
              ".dl-inline {width: auto; margin:0; padding: 0}\n",
              ".dl-inline>dt, .dl-inline>dd {float: none; width: auto; display: inline-block}\n",
              ".dl-inline>dt::after {content: \":\\0020\"; padding-right: .5ex}\n",
              ".dl-inline>dt:not(:first-of-type) {padding-left: .5ex}\n",
              "</style><dl class=dl-inline><dt>(Intercept)</dt><dd>2.54366350726877e-15</dd><dt>mpg</dt><dd>3.52406315436596</dd><dt>hp</dt><dd>1.0565877153613</dd></dl>\n"
            ],
            "text/markdown": "(Intercept)\n:   2.54366350726877e-15mpg\n:   3.52406315436596hp\n:   1.0565877153613\n\n",
            "text/latex": "\\begin{description*}\n\\item[(Intercept)] 2.54366350726877e-15\n\\item[mpg] 3.52406315436596\n\\item[hp] 1.0565877153613\n\\end{description*}\n",
            "text/plain": [
              " (Intercept)          mpg           hp \n",
              "2.543664e-15 3.524063e+00 1.056588e+00 "
            ]
          },
          "metadata": {}
        }
      ]
    },
    {
      "cell_type": "markdown",
      "source": [
        "# Evaluación del modelo\n",
        "Para medir el desempeño, calculamos la matriz de confusión y la exactitud."
      ],
      "metadata": {
        "id": "KTw0HL0FoBEu"
      }
    },
    {
      "cell_type": "code",
      "source": [
        "predicciones <- ifelse(predict(modelo_logistico, type = \"response\") > 0.5, 1, 0)\n",
        "tabla_confusion <- table(Predicho = predicciones, Real = mtcars$am)\n",
        "print(tabla_confusion)"
      ],
      "metadata": {
        "colab": {
          "base_uri": "https://localhost:8080/"
        },
        "id": "_fSZTXXwn-g1",
        "outputId": "3c875fdb-09ce-4c81-8a47-2d2865138b68"
      },
      "execution_count": 8,
      "outputs": [
        {
          "output_type": "stream",
          "name": "stdout",
          "text": [
            "        Real\n",
            "Predicho  0  1\n",
            "       0 16  3\n",
            "       1  3 10\n"
          ]
        }
      ]
    },
    {
      "cell_type": "code",
      "source": [
        "exactitud <- sum(diag(tabla_confusion)) / sum(tabla_confusion)\n",
        "print(paste(\"Exactitud del modelo:\", round(exactitud, 4)))"
      ],
      "metadata": {
        "colab": {
          "base_uri": "https://localhost:8080/"
        },
        "id": "8_x6bE_8oDl8",
        "outputId": "4e19e372-8263-47db-82c0-a008d58ed42c"
      },
      "execution_count": 9,
      "outputs": [
        {
          "output_type": "stream",
          "name": "stdout",
          "text": [
            "[1] \"Exactitud del modelo: 0.8125\"\n"
          ]
        }
      ]
    }
  ]
}